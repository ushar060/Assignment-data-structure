{
  "nbformat": 4,
  "nbformat_minor": 0,
  "metadata": {
    "colab": {
      "provenance": []
    },
    "kernelspec": {
      "name": "python3",
      "display_name": "Python 3"
    },
    "language_info": {
      "name": "python"
    }
  },
  "cells": [
    {
      "cell_type": "markdown",
      "source": [
        "**Data Structure and Types Questions**\n",
        "Ques1-\n",
        "Answer-Data structures are organized ways of storing and managing data so that it can be accessed and modified efficiently. They define how data is arranged in memory and provide methods for performing operations such as searching, inserting, deleting, and updating data.\n",
        "\n",
        "Why Are Data Structures Important?\n",
        "\n",
        "Efficiency:\n",
        "Choosing the right data structure can drastically reduce the time and memory needed for operations.\n",
        "Example: Searching an element in a sorted array with binary search (O(log n)) vs. linear search (O(n)).\n",
        "\n",
        "Better Algorithm Design:\n",
        "Algorithms often depend on the underlying data structure for optimal performance.\n",
        "Example: Dijkstra's algorithm uses priority queues for shortest paths.\n",
        "\n",
        "Data Organization:\n",
        "Data structures provide ways to logically organize data, making it easier to manipulate and use.\n",
        "\n",
        "Scalability:\n",
        "As applications grow (e.g., social networks, search engines), efficient data structures help handle large amounts of data effectively.\n",
        "\n",
        "Reusability:\n",
        "Once implemented, data structures can be reused across multiple programs and applications.\n"
      ],
      "metadata": {
        "id": "5-5i9VORyCXy"
      }
    },
    {
      "cell_type": "markdown",
      "source": [
        "Ques2-The difference between mutable and immutable data types lies in whether the value of the data can be changed after it is created.\n",
        "\n",
        "1. Mutable Data Types\n",
        "Definition: These are data types whose values can be changed after creation, without creating a new object in memory.\n",
        "\n",
        "Examples in Python:\n",
        "\n",
        "list\n",
        "\n",
        "dict (dictionary)\n",
        "\n",
        "set\n",
        "\n",
        "Example:\n",
        "python\n",
        "Copy\n",
        "Edit\n",
        "my_list = [1, 2, 3]\n",
        "print(id(my_list))   # Memory address of my_list\n",
        "\n",
        "my_list.append(4)    # Modify the list\n",
        "print(my_list)       # Output: [1, 2, 3, 4]\n",
        "print(id(my_list))   # Same memory address (object modified in place)\n",
        "Here, the list my_list was modified in place, so the memory address didn’t change.\n",
        "\n",
        "2. Immutable Data Types\n",
        "Definition: These are data types whose values cannot be changed after creation. If you try to modify them, a new object is created in memory.\n",
        "\n",
        "Examples in Python:\n",
        "\n",
        "int\n",
        "\n",
        "float\n",
        "\n",
        "string (str)\n",
        "\n",
        "tuple\n",
        "\n",
        "Example:\n",
        "python\n",
        "Copy\n",
        "Edit\n",
        "my_str = \"Hello\"\n",
        "print(id(my_str))    # Memory address of my_str\n",
        "\n",
        "my_str += \" World\"   # This creates a new string\n",
        "print(my_str)        # Output: \"Hello World\"\n",
        "print(id(my_str))    # Different memory address (new object created)\n",
        "Strings are immutable, so appending creates a new object\n"
      ],
      "metadata": {
        "id": "2SGIDw72ypBq"
      }
    },
    {
      "cell_type": "markdown",
      "source": [
        "Ques3 Differences between Lists and Tuples:\n",
        "Mutability: Lists are mutable; tuples are immutable.\n",
        "\n",
        "Syntax: Lists use []; tuples use ().\n",
        "\n",
        "Performance: Tuples are faster and more memory-efficient than lists.\n",
        "\n",
        "Methods: Lists have more methods (append, remove); tuples have only count and index.\n",
        "\n",
        "Hashability: Tuples can be dictionary keys (if all elements are immutable); lists cannot."
      ],
      "metadata": {
        "id": "PhKuNw7ly3Cx"
      }
    },
    {
      "cell_type": "markdown",
      "source": [
        "Ques4-\n",
        "Dictionaries in Python store data as key-value pairs using a hash table. The key is passed through a hash function to determine an index where the value is stored. This allows for very fast data access, insertion, and deletion (average O(1) time). If two keys produce the same hash, Python resolves the collision using techniques like open addressing."
      ],
      "metadata": {
        "id": "JZduWyXUzKa7"
      }
    },
    {
      "cell_type": "markdown",
      "source": [
        "Ques 5-\n",
        "You might use a set instead of a list in Python because:\n",
        "\n",
        "Unique Elements: Sets automatically remove duplicate values, while lists allow duplicates.\n",
        "\n",
        "Faster Lookup: Sets provide faster membership testing (in) due to hashing (O(1)), compared to lists (O(n)).\n",
        "\n",
        "Set Operations: Sets support mathematical operations like union, intersection, and difference, which lists don’t.\n",
        "\n",
        "Example:\n",
        "\n",
        "my_set = {1, 2, 3}\n",
        "print(2 in my_set)  "
      ],
      "metadata": {
        "id": "udQfXkkEziQ1"
      }
    },
    {
      "cell_type": "markdown",
      "source": [
        "Ques 6-\n",
        "A string in Python is a sequence of characters enclosed in single, double, or triple quotes (e.g., \"Hello\").\n",
        "\n",
        "Differences from a List:\n",
        "Data Type: Strings store characters, while lists can store any data type.\n",
        "\n",
        "Mutability: Strings are immutable (cannot be changed after creation), but lists are mutable.\n",
        "\n",
        "Methods: Strings have text-specific methods like .upper() or .split(), while lists have methods like .append() or .pop().\n",
        "\n",
        "Syntax: Strings use quotes (\"Hello\"), lists use square brackets ([1, 2, 3]).\n",
        "\n",
        "Example:\n",
        "\n",
        "python\n",
        "s = \"Hello\"\n",
        "l = [1, 2, 3]"
      ],
      "metadata": {
        "id": "oPQIOOk9zpgs"
      }
    },
    {
      "cell_type": "markdown",
      "source": [
        "Ques7-\n",
        "Tuples ensure data integrity in Python by being immutable, meaning their elements cannot be changed, added, or removed after creation. This prevents accidental modification of data, making them ideal for storing fixed or constant values.\n",
        "\n",
        "Example:\n",
        "\n",
        "coordinates = (10, 20)\n",
        "# coordinates[0] = 30  # ❌ Error: Tuples can't be modified"
      ],
      "metadata": {
        "id": "bofVNc440Hg5"
      }
    },
    {
      "cell_type": "markdown",
      "source": [
        "Ques8-\n",
        "A hash table is a data structure that stores data as key-value pairs, using a hash function to map keys to specific memory locations for fast access (average O(1) time).\n",
        "\n",
        "In Python, dictionaries are implemented using hash tables. Each key is hashed to find where its corresponding value is stored, enabling quick lookups, insertions, and deletions.\n",
        "\n",
        "Example:\n",
        "\n",
        "student = {\"name\": \"Alice\", \"age\": 21}\n",
        "print(student[\"name\"])  # Fast lookup using hash table"
      ],
      "metadata": {
        "id": "8fNAWi6m0R5r"
      }
    },
    {
      "cell_type": "markdown",
      "source": [
        "Ques 9-\n",
        "Yes, lists in Python can contain different data types because they are heterogeneous data structures. A single list can store integers, strings, floats, and even other lists or objects.\n",
        "\n",
        "Example:\n",
        "\n",
        "my_list = [1, \"Hello\", 3.5, [2, 4]]\n",
        "print(my_list)  # [1, 'Hello', 3.5, [2, 4]]"
      ],
      "metadata": {
        "id": "74HU4Moo0fBJ"
      }
    },
    {
      "cell_type": "markdown",
      "source": [
        "Ques 10-\n",
        "Strings are immutable in Python because once created, their values cannot be changed. This design ensures memory efficiency, security, and thread safety.\n",
        "\n",
        "Memory Sharing: Immutable strings can be reused (string interning), saving memory.\n",
        "\n",
        "Hashing: Strings are often used as dictionary keys, and immutability ensures their hash value never changes.\n",
        "\n",
        "Safety: Prevents accidental modifications in multiple references.\n",
        "\n",
        "Example:\n",
        "\n",
        "s = \"Hello\"\n",
        "s += \" World\"  # Creates a new string, does not modify original"
      ],
      "metadata": {
        "id": "KyaGnGO50qKe"
      }
    },
    {
      "cell_type": "markdown",
      "source": [
        "Ques 11-\n",
        "Dictionaries provide faster lookups (O(1) average time) using keys, while lists require linear search (O(n)). They also allow storing data in key-value pairs, making retrieval by a meaningful key easier than by index.\n",
        "\n"
      ],
      "metadata": {
        "id": "XNQCQxIj03oI"
      }
    },
    {
      "cell_type": "markdown",
      "source": [
        "Ques 12-\n",
        "Use a tuple when you need fixed data that shouldn’t change, such as storing coordinates (x, y) or dates where immutability ensures data integrity.\n",
        "\n"
      ],
      "metadata": {
        "id": "kg2ozENR1BrB"
      }
    },
    {
      "cell_type": "markdown",
      "source": [
        "Ques 13-Sets automatically remove duplicates because they only store unique elements. Adding an existing element to a set has no effect.\n",
        "\n"
      ],
      "metadata": {
        "id": "TQZdDLzW1ES-"
      }
    },
    {
      "cell_type": "markdown",
      "source": [
        "Ques 14-\n",
        "For lists, the in keyword checks if a value exists by scanning each element (O(n) time).\n",
        "For dictionaries, the in keyword checks if a key exists using hashing (O(1) average time).\n",
        "\n",
        "Example:\n",
        "\n",
        "print(2 in [1, 2, 3])          # Checks value → True\n",
        "print(\"name\" in {\"name\": \"A\"}) # Checks key → True"
      ],
      "metadata": {
        "id": "My-sbDCt1GFe"
      }
    },
    {
      "cell_type": "markdown",
      "source": [
        "Ques 15-\n",
        "No, you cannot modify the elements of a tuple because tuples are immutable. Once created, their content cannot be changed, added, or removed. This ensures data integrity.\n",
        "\n",
        "Example:\n",
        "\n",
        "t = (1, 2, 3)\n",
        "# t[0] = 10  # ❌ Error: 'tuple' object does not support item assignment"
      ],
      "metadata": {
        "id": "3fK8iNzw1Zaf"
      }
    },
    {
      "cell_type": "markdown",
      "source": [
        "Ques 16-\n",
        "A nested dictionary is a dictionary where values can also be dictionaries, allowing storage of hierarchical or structured data.\n",
        "\n",
        "Example Use Case: Storing student records with details.\n",
        "\n",
        "students = {\n",
        "    \"Alice\": {\"age\": 20, \"grade\": \"A\"},\n",
        "    \"Bob\": {\"age\": 22, \"grade\": \"B\"}\n",
        "}\n",
        "print(students[\"Alice\"][\"grade\"])  # Output: A"
      ],
      "metadata": {
        "id": "-_sHrr_A1r_j"
      }
    },
    {
      "cell_type": "code",
      "source": [
        "students = {\n",
        "    \"Alice\": {\"age\": 20, \"grade\": \"A\"},\n",
        "    \"Bob\": {\"age\": 22, \"grade\": \"B\"}\n",
        "}\n",
        "print(students[\"Alice\"][\"grade\"])"
      ],
      "metadata": {
        "colab": {
          "base_uri": "https://localhost:8080/"
        },
        "id": "y2HvVPXT19B9",
        "outputId": "3715df56-6107-49b8-db10-5e242f35f778"
      },
      "execution_count": 3,
      "outputs": [
        {
          "output_type": "stream",
          "name": "stdout",
          "text": [
            "A\n"
          ]
        }
      ]
    },
    {
      "cell_type": "markdown",
      "source": [
        "Ques 17- Accessing elements in a dictionary has an average time complexity of O(1) due to the use of hash tables.\n",
        "In rare cases of hash collisions, the worst-case time complexity can be O(n)."
      ],
      "metadata": {
        "id": "zxneqfVu2J05"
      }
    },
    {
      "cell_type": "markdown",
      "source": [
        "Ques 18-\n",
        "ChatGPT said:\n",
        "Lists are preferred over dictionaries when:\n",
        "\n",
        "Order matters – Lists maintain element order by index.\n",
        "\n",
        "No key-value pairing is needed – You just need a simple collection of items.\n",
        "\n",
        "Small datasets – Lists are simpler and use less memory for small, ordered data.\n",
        "\n",
        "Frequent indexing – Accessing elements by index is straightforward and fast (O(1))."
      ],
      "metadata": {
        "id": "bns82IOz2Lti"
      }
    },
    {
      "cell_type": "markdown",
      "source": [
        "Ques 19-\n",
        "Dictionaries are considered unordered because they store data based on hash values of keys, not in a fixed sequence like lists.\n",
        "\n",
        "This means you cannot access items by index, only by key.\n",
        "(From Python 3.7+, insertion order is preserved, but retrieval is still key-based.)\n",
        "\n",
        "Example:\n",
        "\n",
        "data = {\"a\": 1, \"b\": 2}\n",
        "print(data[\"a\"])  # Access by key, not position"
      ],
      "metadata": {
        "id": "W3_pysdv2TUa"
      }
    },
    {
      "cell_type": "markdown",
      "source": [
        "Ques 20-\n",
        "A list retrieves data by index (e.g., my_list[0]), while a dictionary retrieves data by key (e.g., my_dict[\"name\"]).\n",
        "Lists require searching by position, whereas dictionaries use hashing for faster lookups (O(1)) by key."
      ],
      "metadata": {
        "id": "q4XGNgwp2bnZ"
      }
    },
    {
      "cell_type": "markdown",
      "source": [
        "Practical Questions\n"
      ],
      "metadata": {
        "id": "-lMcGMDB2leL"
      }
    },
    {
      "cell_type": "code",
      "source": [
        "#Ques1\n",
        "a = (\"Uday Sharma\")\n",
        "print(a)"
      ],
      "metadata": {
        "colab": {
          "base_uri": "https://localhost:8080/"
        },
        "id": "3gPVm36J26x6",
        "outputId": "16743efa-bc83-4ecd-cdb5-73f5a828feb3"
      },
      "execution_count": 4,
      "outputs": [
        {
          "output_type": "stream",
          "name": "stdout",
          "text": [
            "Uday Sharma\n"
          ]
        }
      ]
    },
    {
      "cell_type": "code",
      "source": [
        "#Ques2\n",
        "a = \"Hello World\"\n",
        "len(a)"
      ],
      "metadata": {
        "colab": {
          "base_uri": "https://localhost:8080/"
        },
        "id": "CgpXdGoy3CXY",
        "outputId": "0bed7f84-b32a-4de4-e0df-baf3623ddfd1"
      },
      "execution_count": 5,
      "outputs": [
        {
          "output_type": "execute_result",
          "data": {
            "text/plain": [
              "11"
            ]
          },
          "metadata": {},
          "execution_count": 5
        }
      ]
    },
    {
      "cell_type": "code",
      "source": [
        "#Ques3\n",
        "s = \"Python Programming\"\n",
        "first_three = s[:3]\n",
        "print(first_three)"
      ],
      "metadata": {
        "colab": {
          "base_uri": "https://localhost:8080/"
        },
        "id": "2bWKuQ8d3LYn",
        "outputId": "1a1dd703-7479-48d9-aeac-97829797a32b"
      },
      "execution_count": 6,
      "outputs": [
        {
          "output_type": "stream",
          "name": "stdout",
          "text": [
            "Pyt\n"
          ]
        }
      ]
    },
    {
      "cell_type": "code",
      "source": [
        "#Ques 4\n",
        "a = \"hello world\"\n",
        "print(a.upper())"
      ],
      "metadata": {
        "colab": {
          "base_uri": "https://localhost:8080/"
        },
        "id": "YOXdkY6q3Ybf",
        "outputId": "33220699-6b36-4567-a243-1667d0dc92d9"
      },
      "execution_count": 10,
      "outputs": [
        {
          "output_type": "stream",
          "name": "stdout",
          "text": [
            "HELLO WORLD\n"
          ]
        }
      ]
    },
    {
      "cell_type": "code",
      "source": [
        "#Ques 5\n",
        "a = \"i like apples\"\n",
        "a = a.replace(\"apples\", \"oranges\")\n",
        "print(a)"
      ],
      "metadata": {
        "colab": {
          "base_uri": "https://localhost:8080/"
        },
        "id": "DV18j0bb3tg0",
        "outputId": "7d81e537-37ea-4d2a-bc21-4ac2b61bc257"
      },
      "execution_count": 15,
      "outputs": [
        {
          "output_type": "stream",
          "name": "stdout",
          "text": [
            "i like oranges\n"
          ]
        }
      ]
    },
    {
      "cell_type": "code",
      "source": [
        "#Ques 6\n",
        "a = [1,2,3,4,5]\n",
        "a"
      ],
      "metadata": {
        "colab": {
          "base_uri": "https://localhost:8080/"
        },
        "id": "sWXWqgur4tQB",
        "outputId": "e6f6ae66-5bc7-4ddf-cc7e-fea99903f38d"
      },
      "execution_count": 16,
      "outputs": [
        {
          "output_type": "execute_result",
          "data": {
            "text/plain": [
              "[1, 2, 3, 4, 5]"
            ]
          },
          "metadata": {},
          "execution_count": 16
        }
      ]
    },
    {
      "cell_type": "code",
      "source": [
        "#Ques 7\n",
        "a = [1,2,3,4]\n",
        "a.append(10)\n",
        "a"
      ],
      "metadata": {
        "colab": {
          "base_uri": "https://localhost:8080/"
        },
        "id": "QC1bXq-E5TZz",
        "outputId": "b07e562a-16da-49b6-8adf-46dc48e8a5ea"
      },
      "execution_count": 17,
      "outputs": [
        {
          "output_type": "execute_result",
          "data": {
            "text/plain": [
              "[1, 2, 3, 4, 10]"
            ]
          },
          "metadata": {},
          "execution_count": 17
        }
      ]
    },
    {
      "cell_type": "code",
      "source": [
        "#Ques 8\n",
        "a = [1,2,3,4,5]\n",
        "a.remove(3)\n",
        "a"
      ],
      "metadata": {
        "colab": {
          "base_uri": "https://localhost:8080/"
        },
        "id": "HqZX1bAT5lwp",
        "outputId": "a7d606bc-6a9a-4542-a2be-2f97e7db9a02"
      },
      "execution_count": 18,
      "outputs": [
        {
          "output_type": "execute_result",
          "data": {
            "text/plain": [
              "[1, 2, 4, 5]"
            ]
          },
          "metadata": {},
          "execution_count": 18
        }
      ]
    },
    {
      "cell_type": "code",
      "source": [
        "#ques 9\n",
        "lst = ['a', 'b', 'c', 'd']\n",
        "second = lst[1]\n",
        "print(second)"
      ],
      "metadata": {
        "colab": {
          "base_uri": "https://localhost:8080/"
        },
        "id": "iF6_K6tP5zxg",
        "outputId": "a44791e8-07cf-487e-ed62-f3a3ba3fc931"
      },
      "execution_count": 23,
      "outputs": [
        {
          "output_type": "stream",
          "name": "stdout",
          "text": [
            "b\n"
          ]
        }
      ]
    },
    {
      "cell_type": "code",
      "source": [
        "#Ques 10\n",
        "list = [10, 20, 30, 40, 50]\n",
        "list.reverse()\n",
        "print(list)"
      ],
      "metadata": {
        "colab": {
          "base_uri": "https://localhost:8080/"
        },
        "id": "CVTtyl0_6M1g",
        "outputId": "b086d53d-2a60-498c-89a4-9ae88eda9193"
      },
      "execution_count": 26,
      "outputs": [
        {
          "output_type": "stream",
          "name": "stdout",
          "text": [
            "[50, 40, 30, 20, 10]\n"
          ]
        }
      ]
    },
    {
      "cell_type": "code",
      "source": [
        "#Ques 11\n",
        "a = (100,200,300)\n",
        "a"
      ],
      "metadata": {
        "colab": {
          "base_uri": "https://localhost:8080/"
        },
        "id": "PM8eAQDi6CBT",
        "outputId": "9fd3e3a9-8c7a-456a-f355-67087f939dc4"
      },
      "execution_count": 27,
      "outputs": [
        {
          "output_type": "execute_result",
          "data": {
            "text/plain": [
              "(100, 200, 300)"
            ]
          },
          "metadata": {},
          "execution_count": 27
        }
      ]
    },
    {
      "cell_type": "code",
      "source": [
        "#Ques 12\n",
        "t = ('red', 'green', 'blue', 'yellow')\n",
        "print(t[2])\n",
        "\n"
      ],
      "metadata": {
        "colab": {
          "base_uri": "https://localhost:8080/"
        },
        "id": "fWS2QiY97DhH",
        "outputId": "1c0faff5-2f0a-408f-c426-a377001ecb17"
      },
      "execution_count": 31,
      "outputs": [
        {
          "output_type": "stream",
          "name": "stdout",
          "text": [
            "blue\n"
          ]
        }
      ]
    },
    {
      "cell_type": "code",
      "source": [
        "#Ques 13\n",
        "t = (10, 20, 5, 15)\n",
        "print(min(t))"
      ],
      "metadata": {
        "colab": {
          "base_uri": "https://localhost:8080/"
        },
        "id": "29UJsznq7e10",
        "outputId": "924f78f6-3c38-4953-9381-0f9d945771f1"
      },
      "execution_count": 35,
      "outputs": [
        {
          "output_type": "stream",
          "name": "stdout",
          "text": [
            "5\n"
          ]
        }
      ]
    },
    {
      "cell_type": "code",
      "source": [
        "#ques 14\n",
        "t = ('dog', 'cat', 'rabbit')\n",
        "t.index('cat')\n"
      ],
      "metadata": {
        "colab": {
          "base_uri": "https://localhost:8080/"
        },
        "id": "VnH0f9VA7re6",
        "outputId": "c3c1e7d9-c7d8-4fb7-ceee-566c294da1c1"
      },
      "execution_count": 36,
      "outputs": [
        {
          "output_type": "execute_result",
          "data": {
            "text/plain": [
              "1"
            ]
          },
          "metadata": {},
          "execution_count": 36
        }
      ]
    },
    {
      "cell_type": "code",
      "source": [
        "#Ques 15\n",
        "fruits = (\"apple\", \"banana\", \"orange\")\n",
        "\n",
        "if \"kiwi\" in fruits:\n",
        "    print(\"kiwi is present\")\n",
        "else:\n",
        "    print(\"kiwi is not present\")"
      ],
      "metadata": {
        "colab": {
          "base_uri": "https://localhost:8080/"
        },
        "id": "NC66EUvC8rVd",
        "outputId": "56167fb7-fcbf-47ad-8fb1-c0cf12c7920d"
      },
      "execution_count": 37,
      "outputs": [
        {
          "output_type": "stream",
          "name": "stdout",
          "text": [
            "kiwi is not present\n"
          ]
        }
      ]
    },
    {
      "cell_type": "code",
      "source": [
        "#Ques 16\n",
        "s = {'a', 'b', 'c'}\n",
        "s"
      ],
      "metadata": {
        "colab": {
          "base_uri": "https://localhost:8080/"
        },
        "id": "x0fkBnGx83y5",
        "outputId": "7e9aca2b-73cf-43f2-aac8-7ae7e04366ad"
      },
      "execution_count": 40,
      "outputs": [
        {
          "output_type": "execute_result",
          "data": {
            "text/plain": [
              "{'a', 'b', 'c'}"
            ]
          },
          "metadata": {},
          "execution_count": 40
        }
      ]
    },
    {
      "cell_type": "code",
      "source": [
        "#Ques 17\n",
        "s = {1, 2, 3, 4, 5}\n",
        "s.clear()\n",
        "print(s)"
      ],
      "metadata": {
        "colab": {
          "base_uri": "https://localhost:8080/"
        },
        "id": "GIgoQHk89D6H",
        "outputId": "768a93e9-bc2e-4d9c-80a1-e23e07431582"
      },
      "execution_count": 46,
      "outputs": [
        {
          "output_type": "stream",
          "name": "stdout",
          "text": [
            "set()\n"
          ]
        }
      ]
    },
    {
      "cell_type": "code",
      "source": [
        "#Ques 18\n",
        "s = {1, 2, 3, 4}\n",
        "s.remove(4)\n",
        "s\n"
      ],
      "metadata": {
        "colab": {
          "base_uri": "https://localhost:8080/"
        },
        "id": "bRt5eQCx-TFT",
        "outputId": "25c019c2-47e5-46d2-84f0-3d3d34109df6"
      },
      "execution_count": 52,
      "outputs": [
        {
          "output_type": "execute_result",
          "data": {
            "text/plain": [
              "{1, 2, 3}"
            ]
          },
          "metadata": {},
          "execution_count": 52
        }
      ]
    },
    {
      "cell_type": "code",
      "source": [
        "#ques 19\n",
        "a = {1, 2, 3}\n",
        "b ={3, 4, 5}\n",
        "c = a | b\n",
        "c"
      ],
      "metadata": {
        "colab": {
          "base_uri": "https://localhost:8080/"
        },
        "id": "lFWCkkD9-ckV",
        "outputId": "73eee8a9-1d02-4cdf-bf0d-45ae8ea1d99a"
      },
      "execution_count": 54,
      "outputs": [
        {
          "output_type": "execute_result",
          "data": {
            "text/plain": [
              "{1, 2, 3, 4, 5}"
            ]
          },
          "metadata": {},
          "execution_count": 54
        }
      ]
    },
    {
      "cell_type": "code",
      "source": [
        "#ques 20\n",
        "a = {1, 2, 3}\n",
        "b = {2, 3, 4}\n",
        "intersect = a & b\n",
        "print(intersect)"
      ],
      "metadata": {
        "colab": {
          "base_uri": "https://localhost:8080/"
        },
        "id": "5Jw6V6rr-4Da",
        "outputId": "f034c182-962f-4781-a952-9d6f7e592939"
      },
      "execution_count": 56,
      "outputs": [
        {
          "output_type": "stream",
          "name": "stdout",
          "text": [
            "{2, 3}\n"
          ]
        }
      ]
    },
    {
      "cell_type": "code",
      "source": [
        "#Ques 21\n",
        "me = {\"name\": \"Uday\", \"Age\": 24, \"City\": \"Delhi\"}\n",
        "me"
      ],
      "metadata": {
        "colab": {
          "base_uri": "https://localhost:8080/"
        },
        "id": "nG4-L1Mb_KlI",
        "outputId": "168f9daa-a347-4acb-b5b1-eae3e8869f69"
      },
      "execution_count": 60,
      "outputs": [
        {
          "output_type": "execute_result",
          "data": {
            "text/plain": [
              "{'name': 'Uday', 'Age': 24, 'City': 'Delhi'}"
            ]
          },
          "metadata": {},
          "execution_count": 60
        }
      ]
    },
    {
      "cell_type": "code",
      "source": [
        "#Ques 22\n",
        "a= {'name': 'John', 'age': 25}\n",
        "a.update({'city': 'USA'})\n",
        "\n",
        "a"
      ],
      "metadata": {
        "colab": {
          "base_uri": "https://localhost:8080/"
        },
        "id": "r70EXaAr_k98",
        "outputId": "19b5f530-0eae-47a0-d7f1-c6902a57959e"
      },
      "execution_count": 64,
      "outputs": [
        {
          "output_type": "execute_result",
          "data": {
            "text/plain": [
              "{'name': 'John', 'age': 25, 'city': 'USA'}"
            ]
          },
          "metadata": {},
          "execution_count": 64
        }
      ]
    },
    {
      "cell_type": "code",
      "source": [
        "#Ques 23\n",
        "person = {'name': 'Alice', 'age': 30}\n",
        "print(person['name'])\n"
      ],
      "metadata": {
        "colab": {
          "base_uri": "https://localhost:8080/"
        },
        "id": "12IpqY6AAvkJ",
        "outputId": "afcdf48e-4488-4b89-8dda-ae427c9b8bec"
      },
      "execution_count": 70,
      "outputs": [
        {
          "output_type": "stream",
          "name": "stdout",
          "text": [
            "Alice\n"
          ]
        }
      ]
    },
    {
      "cell_type": "code",
      "source": [
        "#Ques 24\n",
        "person = {'name': 'Bob', 'age': 22, 'city': 'New York'}\n",
        "del person['age']\n",
        "print(person)"
      ],
      "metadata": {
        "colab": {
          "base_uri": "https://localhost:8080/"
        },
        "id": "1gCHGZGfA8Ll",
        "outputId": "da568a5b-0049-4e4d-86fb-e6942ff2d999"
      },
      "execution_count": 71,
      "outputs": [
        {
          "output_type": "stream",
          "name": "stdout",
          "text": [
            "{'name': 'Bob', 'city': 'New York'}\n"
          ]
        }
      ]
    },
    {
      "cell_type": "code",
      "source": [
        "#Ques 25\n",
        "person = {'name': 'Alice', 'city': 'Paris'}\n",
        "print('city' in person)"
      ],
      "metadata": {
        "colab": {
          "base_uri": "https://localhost:8080/"
        },
        "id": "y_v_epCrBlzi",
        "outputId": "e946f6f7-de3f-4eb9-99a1-59685130b28a"
      },
      "execution_count": 1,
      "outputs": [
        {
          "output_type": "stream",
          "name": "stdout",
          "text": [
            "True\n"
          ]
        }
      ]
    },
    {
      "cell_type": "code",
      "source": [
        "#Ques 26\n",
        "lst = [1, 2, 3]\n",
        "tup = (4, 5, 6)\n",
        "dct = {\"a\": 1, \"b\": 2}\n",
        "\n",
        "print(lst)\n",
        "print(tup)\n",
        "print(dct)"
      ],
      "metadata": {
        "colab": {
          "base_uri": "https://localhost:8080/"
        },
        "id": "N8auK2Sck_wu",
        "outputId": "0b2417f9-cc07-43b1-f8a5-042d34e0f234"
      },
      "execution_count": 2,
      "outputs": [
        {
          "output_type": "stream",
          "name": "stdout",
          "text": [
            "[1, 2, 3]\n",
            "(4, 5, 6)\n",
            "{'a': 1, 'b': 2}\n"
          ]
        }
      ]
    },
    {
      "cell_type": "code",
      "source": [
        "#Ques 27\n",
        "lst= [5,19,999,86,50]\n",
        "lst.sort()\n",
        "print(lst)"
      ],
      "metadata": {
        "colab": {
          "base_uri": "https://localhost:8080/"
        },
        "id": "y4PakUPnlE9k",
        "outputId": "a74091f7-1fe0-431c-b232-6005cc76e466"
      },
      "execution_count": 6,
      "outputs": [
        {
          "output_type": "stream",
          "name": "stdout",
          "text": [
            "[5, 19, 50, 86, 999]\n"
          ]
        }
      ]
    },
    {
      "cell_type": "code",
      "source": [
        "#Ques 28\n",
        "a = [\"apple\", \"banana\", \"cherry\", \"date\", \"elderberry\"]\n",
        "print(a[3])"
      ],
      "metadata": {
        "colab": {
          "base_uri": "https://localhost:8080/"
        },
        "id": "7HvoFkwRlk7I",
        "outputId": "55de508f-2a76-4fef-aa30-443fa6224f95"
      },
      "execution_count": 9,
      "outputs": [
        {
          "output_type": "stream",
          "name": "stdout",
          "text": [
            "date\n"
          ]
        }
      ]
    },
    {
      "cell_type": "code",
      "source": [
        "#Ques 29\n",
        "a= {\"a\": 1, \"b\": 2}\n",
        "b= {\"c\": 4, \"e\": 3}\n",
        "c= a|b\n",
        "c"
      ],
      "metadata": {
        "colab": {
          "base_uri": "https://localhost:8080/"
        },
        "id": "4nTtlu4LmELB",
        "outputId": "a1ea2970-26d7-47dd-87d7-324168127060"
      },
      "execution_count": 10,
      "outputs": [
        {
          "output_type": "execute_result",
          "data": {
            "text/plain": [
              "{'a': 1, 'b': 2, 'c': 4, 'e': 3}"
            ]
          },
          "metadata": {},
          "execution_count": 10
        }
      ]
    },
    {
      "cell_type": "code",
      "source": [
        "#Ques 30\n",
        "a = [\"apple\", \"banana\", \"cherry\", \"date\", \"elderberry\"]\n",
        "b = set(a)\n",
        "b"
      ],
      "metadata": {
        "colab": {
          "base_uri": "https://localhost:8080/"
        },
        "id": "gwCoGhyfmTD1",
        "outputId": "487929bc-499f-4b84-f7c3-7cb71430e5fb"
      },
      "execution_count": 13,
      "outputs": [
        {
          "output_type": "execute_result",
          "data": {
            "text/plain": [
              "{'apple', 'banana', 'cherry', 'date', 'elderberry'}"
            ]
          },
          "metadata": {},
          "execution_count": 13
        }
      ]
    },
    {
      "cell_type": "code",
      "source": [],
      "metadata": {
        "id": "zkeEsGkOmhU6"
      },
      "execution_count": null,
      "outputs": []
    }
  ]
}